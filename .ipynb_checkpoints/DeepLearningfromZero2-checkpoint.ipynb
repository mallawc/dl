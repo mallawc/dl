{
 "cells": [
  {
   "cell_type": "markdown",
   "id": "9ac45556",
   "metadata": {},
   "source": [
    "## Deep Learning from Zero 2\n",
    "\n"
   ]
  },
  {
   "cell_type": "code",
   "execution_count": 115,
   "id": "639c34bc",
   "metadata": {},
   "outputs": [],
   "source": [
    "import math\n",
    "import numpy as np\n",
    "import matplotlib.pyplot as plt\n",
    "import random\n",
    "%matplotlib inline"
   ]
  },
  {
   "cell_type": "code",
   "execution_count": 89,
   "id": "0ec2e556",
   "metadata": {},
   "outputs": [],
   "source": [
    "from graphviz import Digraph\n",
    "\n",
    "def trace(root):\n",
    "    nodes, edges = set(), set()\n",
    "    def build(v):\n",
    "        if v not in nodes:\n",
    "            nodes.add(v)\n",
    "            for child in v._prev:\n",
    "                edges.add((child, v))\n",
    "                build(child)\n",
    "    build(root)\n",
    "    return nodes, edges\n",
    "\n",
    "def draw_dot(root, format='svg', rankdir='LR'):\n",
    "    \"\"\"\n",
    "    format: png | svg | ...\n",
    "    rankdir: TB (top to bottom graph) | LR (left to right)\n",
    "    \"\"\"\n",
    "    #assert rankdir in ['LR', 'TB']\n",
    "    nodes, edges = trace(root)\n",
    "    dot = Digraph(format=format, graph_attr={'rankdir': 'LR'}) #, node_attr={'rankdir': 'TB'})\n",
    "    \n",
    "    for n in nodes:\n",
    "        dot.node(name = str(id(n)), label = \"{ %s | data %.4f | grad %.4f}\" % (n.label, n.data, n.grad), shape='record')\n",
    "        if n._op:\n",
    "            dot.node(name=str(id(n)) + n._op, label=n._op)\n",
    "            dot.edge(str(id(n)) + n._op, str(id(n)))\n",
    "    \n",
    "    for n1, n2 in edges:\n",
    "        dot.edge(str(id(n1)), str(id(n2)) + n2._op)\n",
    "    \n",
    "    return dot"
   ]
  },
  {
   "cell_type": "code",
   "execution_count": 150,
   "id": "8953621c",
   "metadata": {},
   "outputs": [],
   "source": [
    "class Value:\n",
    "    \n",
    "    def __init__(self, data, _children=(), _op='', label=''):\n",
    "        self.data = data\n",
    "        self.grad = 0\n",
    "        self._backward = lambda: None\n",
    "        self._prev = set(_children)\n",
    "        self._op = _op\n",
    "        self.label = label\n",
    "    \n",
    "    def __repr__(self):\n",
    "        return f\"Value(data={self.data})\"\n",
    "    \n",
    "    def __add__(self, other):\n",
    "        other = other if isinstance(other, Value) else Value(other)\n",
    "        out = Value(self.data + other.data, (self,other), '+')\n",
    "        \n",
    "        def _backward():\n",
    "            self.grad += 1.0 * out.grad\n",
    "            other.grad += 1.0 * out.grad\n",
    "            \n",
    "        out._backward = _backward\n",
    "        \n",
    "        return out\n",
    "    \n",
    "    def __mul__(self, other):\n",
    "        other = other if isinstance(other, Value) else Value(other)\n",
    "        out = Value(self.data * other.data, (self,other), '*')\n",
    "        \n",
    "        def _backward():\n",
    "            self.grad += other.data * out.grad\n",
    "            other.grad += self.data * out.grad\n",
    "        \n",
    "        out._backward = _backward\n",
    "        \n",
    "        return out\n",
    "    \n",
    "    def __pow__(self, other):\n",
    "        # other = other if isinstance(other, Value) else Value(other)\n",
    "        assert isinstance(other, (int, float)), \"only supporting int/float powes for now\"\n",
    "        out = Value(self.data**other, (self, ), f'**{other}')\n",
    "        \n",
    "        def _backward():\n",
    "            self.grad += (other * self.data**(other - 1)) * out.grad\n",
    "        \n",
    "        out._backward = _backward\n",
    "        \n",
    "        return out\n",
    "    \n",
    "    def __rmul__(self, other): # other * self\n",
    "        return self * other    \n",
    "        \n",
    "    def __truediv__(self, other): # self / other\n",
    "        return self * other**-1\n",
    "    \n",
    "    def __rtruediv__(self, other): # other / self\n",
    "        return other * self**-1\n",
    "    \n",
    "    def __neg__(self): # -self\n",
    "        return self * -1\n",
    "    \n",
    "    def __radd__(self, other):\n",
    "        return self + other\n",
    "    \n",
    "    def __sub__(self, other): # self - other\n",
    "        return self + (-other)\n",
    "        \n",
    "    def __rsub__(self, other): # other - self\n",
    "        return other + (-self)\n",
    "    \n",
    "    def tanh(self):\n",
    "        x = self.data\n",
    "        t = (math.exp(2*x) - 1)/(math.exp(2*x) + 1)\n",
    "        out = Value(t, (self, ), 'tanh')\n",
    "        \n",
    "        def _backward():\n",
    "            self.grad += (1 - t**2) * out.grad\n",
    "        \n",
    "        out._backward = _backward\n",
    "        \n",
    "        return out\n",
    "    \n",
    "    def exp(self):\n",
    "        x = self.data\n",
    "        out = Value(math.exp(x), (self, ), 'exp')\n",
    "        \n",
    "        def _backward():\n",
    "            self.grad += out.data * out.grad\n",
    "\n",
    "        out._backward = _backward\n",
    "        \n",
    "        return out\n",
    "    \n",
    "    def backward(self):\n",
    "        \n",
    "        topo = []\n",
    "        visited = set()\n",
    "        def build_topo(v):\n",
    "            if v not in visited:\n",
    "                visited.add(v)\n",
    "                for child in v._prev:\n",
    "                    build_topo(child)\n",
    "                topo.append(v)\n",
    "        build_topo(self)\n",
    "        \n",
    "        self.grad = 1.0\n",
    "        for node in reversed(topo):\n",
    "            node._backward()"
   ]
  },
  {
   "cell_type": "code",
   "execution_count": 43,
   "id": "656bde23",
   "metadata": {},
   "outputs": [],
   "source": [
    "# input x1,x2\n",
    "x1 = Value(2.0, label='x1')\n",
    "x2 = Value(0.0, label='x2')\n",
    "# weight w1,w2\n",
    "w1 = Value(-3.0, label='w1')\n",
    "w2 = Value(1.0, label='w2')\n",
    "# bias of the neuron\n",
    "b = Value(6.88137358, label='b')\n",
    "\n",
    "# z = x1*w1 + x2*w2 + b\n",
    "x1w1 = x1*w1; x1w1.label = 'x1w1'\n",
    "x2w2 = x2*w2; x2w2.label = 'x2w2'\n",
    "x1w1x2w2 = x1w1 + x2w2; x1w1x2w2.label = 'x1*w1 + x2*w2'\n",
    "n = x1w1x2w2 + b; n.label = 'n'\n",
    "o = n.tanh(); o.label = 'o'\n",
    "o.backward()"
   ]
  },
  {
   "cell_type": "code",
   "execution_count": 44,
   "id": "00ab0f8d",
   "metadata": {},
   "outputs": [
    {
     "data": {
      "image/svg+xml": [
       "<?xml version=\"1.0\" encoding=\"UTF-8\" standalone=\"no\"?>\n",
       "<!DOCTYPE svg PUBLIC \"-//W3C//DTD SVG 1.1//EN\"\n",
       " \"http://www.w3.org/Graphics/SVG/1.1/DTD/svg11.dtd\">\n",
       "<!-- Generated by graphviz version 2.50.0 (0)\n",
       " -->\n",
       "<!-- Pages: 1 -->\n",
       "<svg width=\"1569pt\" height=\"210pt\"\n",
       " viewBox=\"0.00 0.00 1569.00 210.00\" xmlns=\"http://www.w3.org/2000/svg\" xmlns:xlink=\"http://www.w3.org/1999/xlink\">\n",
       "<g id=\"graph0\" class=\"graph\" transform=\"scale(1 1) rotate(0) translate(4 206)\">\n",
       "<polygon fill=\"white\" stroke=\"transparent\" points=\"-4,4 -4,-206 1565,-206 1565,4 -4,4\"/>\n",
       "<!-- 2596352258592 -->\n",
       "<g id=\"node1\" class=\"node\">\n",
       "<title>2596352258592</title>\n",
       "<polygon fill=\"none\" stroke=\"black\" points=\"4,-165.5 4,-201.5 196,-201.5 196,-165.5 4,-165.5\"/>\n",
       "<text text-anchor=\"middle\" x=\"19\" y=\"-179.8\" font-family=\"Times New Roman,serif\" font-size=\"14.00\">x2</text>\n",
       "<polyline fill=\"none\" stroke=\"black\" points=\"34,-165.5 34,-201.5 \"/>\n",
       "<text text-anchor=\"middle\" x=\"74\" y=\"-179.8\" font-family=\"Times New Roman,serif\" font-size=\"14.00\">data 0.0000</text>\n",
       "<polyline fill=\"none\" stroke=\"black\" points=\"114,-165.5 114,-201.5 \"/>\n",
       "<text text-anchor=\"middle\" x=\"155\" y=\"-179.8\" font-family=\"Times New Roman,serif\" font-size=\"14.00\">grad 0.5000</text>\n",
       "</g>\n",
       "<!-- 2596352259792* -->\n",
       "<g id=\"node8\" class=\"node\">\n",
       "<title>2596352259792*</title>\n",
       "<ellipse fill=\"none\" stroke=\"black\" cx=\"263\" cy=\"-128.5\" rx=\"27\" ry=\"18\"/>\n",
       "<text text-anchor=\"middle\" x=\"263\" y=\"-124.8\" font-family=\"Times New Roman,serif\" font-size=\"14.00\">*</text>\n",
       "</g>\n",
       "<!-- 2596352258592&#45;&gt;2596352259792* -->\n",
       "<g id=\"edge14\" class=\"edge\">\n",
       "<title>2596352258592&#45;&gt;2596352259792*</title>\n",
       "<path fill=\"none\" stroke=\"black\" d=\"M172.53,-165.44C181.84,-162.67 191.2,-159.67 200,-156.5 210.53,-152.71 221.75,-147.9 231.72,-143.33\"/>\n",
       "<polygon fill=\"black\" stroke=\"black\" points=\"233.25,-146.48 240.82,-139.07 230.28,-140.14 233.25,-146.48\"/>\n",
       "</g>\n",
       "<!-- 2596352246880 -->\n",
       "<g id=\"node2\" class=\"node\">\n",
       "<title>2596352246880</title>\n",
       "<polygon fill=\"none\" stroke=\"black\" points=\"710,-27.5 710,-63.5 895,-63.5 895,-27.5 710,-27.5\"/>\n",
       "<text text-anchor=\"middle\" x=\"721.5\" y=\"-41.8\" font-family=\"Times New Roman,serif\" font-size=\"14.00\">b</text>\n",
       "<polyline fill=\"none\" stroke=\"black\" points=\"733,-27.5 733,-63.5 \"/>\n",
       "<text text-anchor=\"middle\" x=\"773\" y=\"-41.8\" font-family=\"Times New Roman,serif\" font-size=\"14.00\">data 6.8814</text>\n",
       "<polyline fill=\"none\" stroke=\"black\" points=\"813,-27.5 813,-63.5 \"/>\n",
       "<text text-anchor=\"middle\" x=\"854\" y=\"-41.8\" font-family=\"Times New Roman,serif\" font-size=\"14.00\">grad 0.5000</text>\n",
       "</g>\n",
       "<!-- 2596352246448+ -->\n",
       "<g id=\"node6\" class=\"node\">\n",
       "<title>2596352246448+</title>\n",
       "<ellipse fill=\"none\" stroke=\"black\" cx=\"1002\" cy=\"-72.5\" rx=\"27\" ry=\"18\"/>\n",
       "<text text-anchor=\"middle\" x=\"1002\" y=\"-68.8\" font-family=\"Times New Roman,serif\" font-size=\"14.00\">+</text>\n",
       "</g>\n",
       "<!-- 2596352246880&#45;&gt;2596352246448+ -->\n",
       "<g id=\"edge11\" class=\"edge\">\n",
       "<title>2596352246880&#45;&gt;2596352246448+</title>\n",
       "<path fill=\"none\" stroke=\"black\" d=\"M895.02,-58.01C920,-61.43 945.59,-64.93 965.37,-67.63\"/>\n",
       "<polygon fill=\"black\" stroke=\"black\" points=\"965.05,-71.12 975.43,-69.01 966,-64.18 965.05,-71.12\"/>\n",
       "</g>\n",
       "<!-- 2596353431712 -->\n",
       "<g id=\"node3\" class=\"node\">\n",
       "<title>2596353431712</title>\n",
       "<polygon fill=\"none\" stroke=\"black\" points=\"1376,-54.5 1376,-90.5 1561,-90.5 1561,-54.5 1376,-54.5\"/>\n",
       "<text text-anchor=\"middle\" x=\"1387.5\" y=\"-68.8\" font-family=\"Times New Roman,serif\" font-size=\"14.00\">o</text>\n",
       "<polyline fill=\"none\" stroke=\"black\" points=\"1399,-54.5 1399,-90.5 \"/>\n",
       "<text text-anchor=\"middle\" x=\"1439\" y=\"-68.8\" font-family=\"Times New Roman,serif\" font-size=\"14.00\">data 0.7071</text>\n",
       "<polyline fill=\"none\" stroke=\"black\" points=\"1479,-54.5 1479,-90.5 \"/>\n",
       "<text text-anchor=\"middle\" x=\"1520\" y=\"-68.8\" font-family=\"Times New Roman,serif\" font-size=\"14.00\">grad 1.0000</text>\n",
       "</g>\n",
       "<!-- 2596353431712tanh -->\n",
       "<g id=\"node4\" class=\"node\">\n",
       "<title>2596353431712tanh</title>\n",
       "<ellipse fill=\"none\" stroke=\"black\" cx=\"1313\" cy=\"-72.5\" rx=\"27\" ry=\"18\"/>\n",
       "<text text-anchor=\"middle\" x=\"1313\" y=\"-68.8\" font-family=\"Times New Roman,serif\" font-size=\"14.00\">tanh</text>\n",
       "</g>\n",
       "<!-- 2596353431712tanh&#45;&gt;2596353431712 -->\n",
       "<g id=\"edge1\" class=\"edge\">\n",
       "<title>2596353431712tanh&#45;&gt;2596353431712</title>\n",
       "<path fill=\"none\" stroke=\"black\" d=\"M1340.04,-72.5C1347.58,-72.5 1356.3,-72.5 1365.57,-72.5\"/>\n",
       "<polygon fill=\"black\" stroke=\"black\" points=\"1365.81,-76 1375.81,-72.5 1365.81,-69 1365.81,-76\"/>\n",
       "</g>\n",
       "<!-- 2596352246448 -->\n",
       "<g id=\"node5\" class=\"node\">\n",
       "<title>2596352246448</title>\n",
       "<polygon fill=\"none\" stroke=\"black\" points=\"1065,-54.5 1065,-90.5 1250,-90.5 1250,-54.5 1065,-54.5\"/>\n",
       "<text text-anchor=\"middle\" x=\"1076.5\" y=\"-68.8\" font-family=\"Times New Roman,serif\" font-size=\"14.00\">n</text>\n",
       "<polyline fill=\"none\" stroke=\"black\" points=\"1088,-54.5 1088,-90.5 \"/>\n",
       "<text text-anchor=\"middle\" x=\"1128\" y=\"-68.8\" font-family=\"Times New Roman,serif\" font-size=\"14.00\">data 0.8814</text>\n",
       "<polyline fill=\"none\" stroke=\"black\" points=\"1168,-54.5 1168,-90.5 \"/>\n",
       "<text text-anchor=\"middle\" x=\"1209\" y=\"-68.8\" font-family=\"Times New Roman,serif\" font-size=\"14.00\">grad 0.5000</text>\n",
       "</g>\n",
       "<!-- 2596352246448&#45;&gt;2596353431712tanh -->\n",
       "<g id=\"edge9\" class=\"edge\">\n",
       "<title>2596352246448&#45;&gt;2596353431712tanh</title>\n",
       "<path fill=\"none\" stroke=\"black\" d=\"M1250.01,-72.5C1259.01,-72.5 1267.74,-72.5 1275.66,-72.5\"/>\n",
       "<polygon fill=\"black\" stroke=\"black\" points=\"1275.91,-76 1285.91,-72.5 1275.91,-69 1275.91,-76\"/>\n",
       "</g>\n",
       "<!-- 2596352246448+&#45;&gt;2596352246448 -->\n",
       "<g id=\"edge2\" class=\"edge\">\n",
       "<title>2596352246448+&#45;&gt;2596352246448</title>\n",
       "<path fill=\"none\" stroke=\"black\" d=\"M1029.04,-72.5C1036.58,-72.5 1045.3,-72.5 1054.57,-72.5\"/>\n",
       "<polygon fill=\"black\" stroke=\"black\" points=\"1054.81,-76 1064.81,-72.5 1054.81,-69 1054.81,-76\"/>\n",
       "</g>\n",
       "<!-- 2596352259792 -->\n",
       "<g id=\"node7\" class=\"node\">\n",
       "<title>2596352259792</title>\n",
       "<polygon fill=\"none\" stroke=\"black\" points=\"328.5,-110.5 328.5,-146.5 537.5,-146.5 537.5,-110.5 328.5,-110.5\"/>\n",
       "<text text-anchor=\"middle\" x=\"352\" y=\"-124.8\" font-family=\"Times New Roman,serif\" font-size=\"14.00\">x2w2</text>\n",
       "<polyline fill=\"none\" stroke=\"black\" points=\"375.5,-110.5 375.5,-146.5 \"/>\n",
       "<text text-anchor=\"middle\" x=\"415.5\" y=\"-124.8\" font-family=\"Times New Roman,serif\" font-size=\"14.00\">data 0.0000</text>\n",
       "<polyline fill=\"none\" stroke=\"black\" points=\"455.5,-110.5 455.5,-146.5 \"/>\n",
       "<text text-anchor=\"middle\" x=\"496.5\" y=\"-124.8\" font-family=\"Times New Roman,serif\" font-size=\"14.00\">grad 0.5000</text>\n",
       "</g>\n",
       "<!-- 2596352247168+ -->\n",
       "<g id=\"node13\" class=\"node\">\n",
       "<title>2596352247168+</title>\n",
       "<ellipse fill=\"none\" stroke=\"black\" cx=\"603\" cy=\"-100.5\" rx=\"27\" ry=\"18\"/>\n",
       "<text text-anchor=\"middle\" x=\"603\" y=\"-96.8\" font-family=\"Times New Roman,serif\" font-size=\"14.00\">+</text>\n",
       "</g>\n",
       "<!-- 2596352259792&#45;&gt;2596352247168+ -->\n",
       "<g id=\"edge12\" class=\"edge\">\n",
       "<title>2596352259792&#45;&gt;2596352247168+</title>\n",
       "<path fill=\"none\" stroke=\"black\" d=\"M537.53,-111.25C547.8,-109.53 557.66,-107.89 566.45,-106.43\"/>\n",
       "<polygon fill=\"black\" stroke=\"black\" points=\"567.3,-109.83 576.59,-104.74 566.15,-102.93 567.3,-109.83\"/>\n",
       "</g>\n",
       "<!-- 2596352259792*&#45;&gt;2596352259792 -->\n",
       "<g id=\"edge3\" class=\"edge\">\n",
       "<title>2596352259792*&#45;&gt;2596352259792</title>\n",
       "<path fill=\"none\" stroke=\"black\" d=\"M290.25,-128.5C298.43,-128.5 308.03,-128.5 318.31,-128.5\"/>\n",
       "<polygon fill=\"black\" stroke=\"black\" points=\"318.35,-132 328.35,-128.5 318.35,-125 318.35,-132\"/>\n",
       "</g>\n",
       "<!-- 2596352254176 -->\n",
       "<g id=\"node9\" class=\"node\">\n",
       "<title>2596352254176</title>\n",
       "<polygon fill=\"none\" stroke=\"black\" points=\"326,-55.5 326,-91.5 540,-91.5 540,-55.5 326,-55.5\"/>\n",
       "<text text-anchor=\"middle\" x=\"349.5\" y=\"-69.8\" font-family=\"Times New Roman,serif\" font-size=\"14.00\">x1w1</text>\n",
       "<polyline fill=\"none\" stroke=\"black\" points=\"373,-55.5 373,-91.5 \"/>\n",
       "<text text-anchor=\"middle\" x=\"415.5\" y=\"-69.8\" font-family=\"Times New Roman,serif\" font-size=\"14.00\">data &#45;6.0000</text>\n",
       "<polyline fill=\"none\" stroke=\"black\" points=\"458,-55.5 458,-91.5 \"/>\n",
       "<text text-anchor=\"middle\" x=\"499\" y=\"-69.8\" font-family=\"Times New Roman,serif\" font-size=\"14.00\">grad 0.5000</text>\n",
       "</g>\n",
       "<!-- 2596352254176&#45;&gt;2596352247168+ -->\n",
       "<g id=\"edge10\" class=\"edge\">\n",
       "<title>2596352254176&#45;&gt;2596352247168+</title>\n",
       "<path fill=\"none\" stroke=\"black\" d=\"M540.4,-90.6C549.72,-92.1 558.65,-93.53 566.68,-94.82\"/>\n",
       "<polygon fill=\"black\" stroke=\"black\" points=\"566.24,-98.3 576.66,-96.43 567.35,-91.39 566.24,-98.3\"/>\n",
       "</g>\n",
       "<!-- 2596352254176* -->\n",
       "<g id=\"node10\" class=\"node\">\n",
       "<title>2596352254176*</title>\n",
       "<ellipse fill=\"none\" stroke=\"black\" cx=\"263\" cy=\"-73.5\" rx=\"27\" ry=\"18\"/>\n",
       "<text text-anchor=\"middle\" x=\"263\" y=\"-69.8\" font-family=\"Times New Roman,serif\" font-size=\"14.00\">*</text>\n",
       "</g>\n",
       "<!-- 2596352254176*&#45;&gt;2596352254176 -->\n",
       "<g id=\"edge4\" class=\"edge\">\n",
       "<title>2596352254176*&#45;&gt;2596352254176</title>\n",
       "<path fill=\"none\" stroke=\"black\" d=\"M290.25,-73.5C297.7,-73.5 306.34,-73.5 315.59,-73.5\"/>\n",
       "<polygon fill=\"black\" stroke=\"black\" points=\"315.84,-77 325.84,-73.5 315.84,-70 315.84,-77\"/>\n",
       "</g>\n",
       "<!-- 2596352260464 -->\n",
       "<g id=\"node11\" class=\"node\">\n",
       "<title>2596352260464</title>\n",
       "<polygon fill=\"none\" stroke=\"black\" points=\"0,-55.5 0,-91.5 200,-91.5 200,-55.5 0,-55.5\"/>\n",
       "<text text-anchor=\"middle\" x=\"16.5\" y=\"-69.8\" font-family=\"Times New Roman,serif\" font-size=\"14.00\">w1</text>\n",
       "<polyline fill=\"none\" stroke=\"black\" points=\"33,-55.5 33,-91.5 \"/>\n",
       "<text text-anchor=\"middle\" x=\"75.5\" y=\"-69.8\" font-family=\"Times New Roman,serif\" font-size=\"14.00\">data &#45;3.0000</text>\n",
       "<polyline fill=\"none\" stroke=\"black\" points=\"118,-55.5 118,-91.5 \"/>\n",
       "<text text-anchor=\"middle\" x=\"159\" y=\"-69.8\" font-family=\"Times New Roman,serif\" font-size=\"14.00\">grad 1.0000</text>\n",
       "</g>\n",
       "<!-- 2596352260464&#45;&gt;2596352254176* -->\n",
       "<g id=\"edge7\" class=\"edge\">\n",
       "<title>2596352260464&#45;&gt;2596352254176*</title>\n",
       "<path fill=\"none\" stroke=\"black\" d=\"M200.21,-73.5C209.2,-73.5 217.86,-73.5 225.7,-73.5\"/>\n",
       "<polygon fill=\"black\" stroke=\"black\" points=\"225.85,-77 235.85,-73.5 225.85,-70 225.85,-77\"/>\n",
       "</g>\n",
       "<!-- 2596352247168 -->\n",
       "<g id=\"node12\" class=\"node\">\n",
       "<title>2596352247168</title>\n",
       "<polygon fill=\"none\" stroke=\"black\" points=\"666,-82.5 666,-118.5 939,-118.5 939,-82.5 666,-82.5\"/>\n",
       "<text text-anchor=\"middle\" x=\"719\" y=\"-96.8\" font-family=\"Times New Roman,serif\" font-size=\"14.00\">x1*w1 + x2*w2</text>\n",
       "<polyline fill=\"none\" stroke=\"black\" points=\"772,-82.5 772,-118.5 \"/>\n",
       "<text text-anchor=\"middle\" x=\"814.5\" y=\"-96.8\" font-family=\"Times New Roman,serif\" font-size=\"14.00\">data &#45;6.0000</text>\n",
       "<polyline fill=\"none\" stroke=\"black\" points=\"857,-82.5 857,-118.5 \"/>\n",
       "<text text-anchor=\"middle\" x=\"898\" y=\"-96.8\" font-family=\"Times New Roman,serif\" font-size=\"14.00\">grad 0.5000</text>\n",
       "</g>\n",
       "<!-- 2596352247168&#45;&gt;2596352246448+ -->\n",
       "<g id=\"edge13\" class=\"edge\">\n",
       "<title>2596352247168&#45;&gt;2596352246448+</title>\n",
       "<path fill=\"none\" stroke=\"black\" d=\"M930.53,-82.49C943.09,-80.71 954.99,-79.02 965.3,-77.56\"/>\n",
       "<polygon fill=\"black\" stroke=\"black\" points=\"966.03,-80.99 975.44,-76.12 965.05,-74.06 966.03,-80.99\"/>\n",
       "</g>\n",
       "<!-- 2596352247168+&#45;&gt;2596352247168 -->\n",
       "<g id=\"edge5\" class=\"edge\">\n",
       "<title>2596352247168+&#45;&gt;2596352247168</title>\n",
       "<path fill=\"none\" stroke=\"black\" d=\"M630.23,-100.5C637.7,-100.5 646.41,-100.5 655.87,-100.5\"/>\n",
       "<polygon fill=\"black\" stroke=\"black\" points=\"655.98,-104 665.98,-100.5 655.98,-97 655.98,-104\"/>\n",
       "</g>\n",
       "<!-- 2596352257968 -->\n",
       "<g id=\"node14\" class=\"node\">\n",
       "<title>2596352257968</title>\n",
       "<polygon fill=\"none\" stroke=\"black\" points=\"2,-0.5 2,-36.5 198,-36.5 198,-0.5 2,-0.5\"/>\n",
       "<text text-anchor=\"middle\" x=\"17\" y=\"-14.8\" font-family=\"Times New Roman,serif\" font-size=\"14.00\">x1</text>\n",
       "<polyline fill=\"none\" stroke=\"black\" points=\"32,-0.5 32,-36.5 \"/>\n",
       "<text text-anchor=\"middle\" x=\"72\" y=\"-14.8\" font-family=\"Times New Roman,serif\" font-size=\"14.00\">data 2.0000</text>\n",
       "<polyline fill=\"none\" stroke=\"black\" points=\"112,-0.5 112,-36.5 \"/>\n",
       "<text text-anchor=\"middle\" x=\"155\" y=\"-14.8\" font-family=\"Times New Roman,serif\" font-size=\"14.00\">grad &#45;1.5000</text>\n",
       "</g>\n",
       "<!-- 2596352257968&#45;&gt;2596352254176* -->\n",
       "<g id=\"edge8\" class=\"edge\">\n",
       "<title>2596352257968&#45;&gt;2596352254176*</title>\n",
       "<path fill=\"none\" stroke=\"black\" d=\"M169.28,-36.5C179.65,-39.61 190.16,-42.98 200,-46.5 210.28,-50.17 221.28,-54.74 231.11,-59.07\"/>\n",
       "<polygon fill=\"black\" stroke=\"black\" points=\"229.93,-62.37 240.48,-63.27 232.79,-55.99 229.93,-62.37\"/>\n",
       "</g>\n",
       "<!-- 2596352261568 -->\n",
       "<g id=\"node15\" class=\"node\">\n",
       "<title>2596352261568</title>\n",
       "<polygon fill=\"none\" stroke=\"black\" points=\"2.5,-110.5 2.5,-146.5 197.5,-146.5 197.5,-110.5 2.5,-110.5\"/>\n",
       "<text text-anchor=\"middle\" x=\"19\" y=\"-124.8\" font-family=\"Times New Roman,serif\" font-size=\"14.00\">w2</text>\n",
       "<polyline fill=\"none\" stroke=\"black\" points=\"35.5,-110.5 35.5,-146.5 \"/>\n",
       "<text text-anchor=\"middle\" x=\"75.5\" y=\"-124.8\" font-family=\"Times New Roman,serif\" font-size=\"14.00\">data 1.0000</text>\n",
       "<polyline fill=\"none\" stroke=\"black\" points=\"115.5,-110.5 115.5,-146.5 \"/>\n",
       "<text text-anchor=\"middle\" x=\"156.5\" y=\"-124.8\" font-family=\"Times New Roman,serif\" font-size=\"14.00\">grad 0.0000</text>\n",
       "</g>\n",
       "<!-- 2596352261568&#45;&gt;2596352259792* -->\n",
       "<g id=\"edge6\" class=\"edge\">\n",
       "<title>2596352261568&#45;&gt;2596352259792*</title>\n",
       "<path fill=\"none\" stroke=\"black\" d=\"M197.91,-128.5C207.65,-128.5 217.05,-128.5 225.52,-128.5\"/>\n",
       "<polygon fill=\"black\" stroke=\"black\" points=\"225.7,-132 235.7,-128.5 225.7,-125 225.7,-132\"/>\n",
       "</g>\n",
       "</g>\n",
       "</svg>\n"
      ],
      "text/plain": [
       "<graphviz.graphs.Digraph at 0x25c82a75bd0>"
      ]
     },
     "execution_count": 44,
     "metadata": {},
     "output_type": "execute_result"
    }
   ],
   "source": [
    "draw_dot(o)"
   ]
  },
  {
   "cell_type": "markdown",
   "id": "898ac504",
   "metadata": {},
   "source": [
    "$tanh\\,x = \\frac{e^x - e^{-x}}{e^x + e^{-x}} = \\frac{e^{2x} - 1}{e^{2x} + 1}$"
   ]
  },
  {
   "cell_type": "code",
   "execution_count": 7,
   "id": "7ac8f370",
   "metadata": {},
   "outputs": [
    {
     "ename": "NameError",
     "evalue": "name 'draw_dot' is not defined",
     "output_type": "error",
     "traceback": [
      "\u001b[1;31m---------------------------------------------------------------------------\u001b[0m",
      "\u001b[1;31mNameError\u001b[0m                                 Traceback (most recent call last)",
      "Cell \u001b[1;32mIn[7], line 21\u001b[0m\n\u001b[0;32m     19\u001b[0m o\u001b[38;5;241m.\u001b[39mlabel \u001b[38;5;241m=\u001b[39m \u001b[38;5;124m'\u001b[39m\u001b[38;5;124mo\u001b[39m\u001b[38;5;124m'\u001b[39m\n\u001b[0;32m     20\u001b[0m o\u001b[38;5;241m.\u001b[39mbackward()\n\u001b[1;32m---> 21\u001b[0m \u001b[43mdraw_dot\u001b[49m(o)\n",
      "\u001b[1;31mNameError\u001b[0m: name 'draw_dot' is not defined"
     ]
    }
   ],
   "source": [
    "# input x1,x2\n",
    "x1 = Value(2.0, label='x1')\n",
    "x2 = Value(0.0, label='x2')\n",
    "# weight w1,w2\n",
    "w1 = Value(-3.0, label='w1')\n",
    "w2 = Value(1.0, label='w2')\n",
    "# bias of the neuron\n",
    "b = Value(6.88137358, label='b')\n",
    "\n",
    "# z = x1*w1 + x2*w2 + b\n",
    "x1w1 = x1*w1; x1w1.label = 'x1w1'\n",
    "x2w2 = x2*w2; x2w2.label = 'x2w2'\n",
    "x1w1x2w2 = x1w1 + x2w2; x1w1x2w2.label = 'x1*w1 + x2*w2'\n",
    "n = x1w1x2w2 + b; n.label = 'n'\n",
    "# --\n",
    "e = (2*n).exp()\n",
    "o = (e - 1) / (e + 1)\n",
    "# --\n",
    "o.label = 'o'\n",
    "o.backward()\n",
    "draw_dot(o)"
   ]
  },
  {
   "cell_type": "code",
   "execution_count": 47,
   "id": "847db024",
   "metadata": {},
   "outputs": [],
   "source": [
    "import torch"
   ]
  },
  {
   "cell_type": "code",
   "execution_count": 55,
   "id": "650c5d55",
   "metadata": {},
   "outputs": [
    {
     "name": "stdout",
     "output_type": "stream",
     "text": [
      "0.7071066904050358\n",
      "---\n",
      "x2 0.5000001283844369\n",
      "w2 0.0\n",
      "x1 -1.5000003851533106\n",
      "w1 1.0000002567688737\n"
     ]
    }
   ],
   "source": [
    "\n",
    "x1 = torch.Tensor([2.0]).double()                ;x1.requires_grad = True\n",
    "x2 = torch.Tensor([0.0]).double()                ;x2.requires_grad = True\n",
    "w1 = torch.Tensor([-3.0]).double()               ;w1.requires_grad = True\n",
    "w2 = torch.Tensor([1.0]).double()                ;w2.requires_grad = True\n",
    "b = torch.Tensor([6.8813735870195432]).double()  ;b.requires_grad = True\n",
    "n = x1*w1 + x2*w2 + b\n",
    "o = torch.tanh(n)\n",
    "\n",
    "print(o.data.item())\n",
    "o.backward()\n",
    "\n",
    "print('---')\n",
    "print('x2', x2.grad.item())\n",
    "print('w2', w2.grad.item())\n",
    "print('x1', x1.grad.item())\n",
    "print('w1', w1.grad.item())"
   ]
  },
  {
   "cell_type": "code",
   "execution_count": 57,
   "id": "76ce6ef1",
   "metadata": {},
   "outputs": [
    {
     "data": {
      "text/plain": [
       "0.7071066904050358"
      ]
     },
     "execution_count": 57,
     "metadata": {},
     "output_type": "execute_result"
    }
   ],
   "source": [
    "o.item()"
   ]
  },
  {
   "cell_type": "code",
   "execution_count": 58,
   "id": "0a2bc90c",
   "metadata": {},
   "outputs": [
    {
     "data": {
      "text/plain": [
       "tensor([-1.5000], dtype=torch.float64)"
      ]
     },
     "execution_count": 58,
     "metadata": {},
     "output_type": "execute_result"
    }
   ],
   "source": [
    "x1.grad"
   ]
  },
  {
   "cell_type": "code",
   "execution_count": 53,
   "id": "3b37c609",
   "metadata": {},
   "outputs": [
    {
     "data": {
      "text/plain": [
       "torch.float64"
      ]
     },
     "execution_count": 53,
     "metadata": {},
     "output_type": "execute_result"
    }
   ],
   "source": [
    "torch.Tensor([2.0]).double().dtype"
   ]
  },
  {
   "cell_type": "markdown",
   "id": "d695b8b0",
   "metadata": {},
   "source": [
    "### Build the Multi-layer perceptron (Model MLP):"
   ]
  },
  {
   "cell_type": "code",
   "execution_count": 31,
   "id": "47deeb0a",
   "metadata": {},
   "outputs": [
    {
     "name": "stdout",
     "output_type": "stream",
     "text": [
      "[(Value(data=-0.4629787353239705), 2.0), (Value(data=0.9797180858758985), 3.0)]\n"
     ]
    },
    {
     "data": {
      "text/plain": [
       "0.0"
      ]
     },
     "execution_count": 31,
     "metadata": {},
     "output_type": "execute_result"
    }
   ],
   "source": [
    "class Neuron:\n",
    "    \n",
    "    def __init__(self, nin):\n",
    "        # nin:dimension of the neuron inputs\n",
    "        self.w = [Value(random.uniform(-1,1)) for _ in range(nin)]\n",
    "        self.b = Value(random.uniform(-1,1))\n",
    "    \n",
    "    def __call__(self, x):\n",
    "        # w * x + b\n",
    "        print(list(zip(self.w, x)))\n",
    "        return 0.0\n",
    "\n",
    "x = [2.0, 3.0]\n",
    "# initialize a neuron that is two-demensional.\n",
    "n = Neuron(2)\n",
    "# feed thost two numbers into that neuron to get an output.\n",
    "n(x)"
   ]
  },
  {
   "cell_type": "code",
   "execution_count": 72,
   "id": "39983cc0",
   "metadata": {},
   "outputs": [
    {
     "data": {
      "text/plain": [
       "[Value(data=0.2751774771647183),\n",
       " Value(data=0.08807623729212599),\n",
       " Value(data=-0.10313002635414234)]"
      ]
     },
     "execution_count": 72,
     "metadata": {},
     "output_type": "execute_result"
    }
   ],
   "source": [
    "class Neuron:\n",
    "    \n",
    "    def __init__(self, nin):\n",
    "        # nin:dimension of the neuron inputs\n",
    "        self.w = [Value(random.uniform(-1,1)) for _ in range(nin)]\n",
    "        self.b = Value(random.uniform(-1,1))\n",
    "    \n",
    "    def __call__(self, x):\n",
    "        # w * x + b\n",
    "        # zip:take iterators and creates a new iterators \n",
    "        # over the tuples of corresponding entries.\n",
    "        act = sum((wi*xi for wi, xi in zip(self.w, x)), self.b)\n",
    "        out = act.tanh()\n",
    "        return out\n",
    "\n",
    "class Layer:\n",
    "    \n",
    "    # nin:numbers of inputs in the layer\n",
    "    # nout:number of outputs in the layer\n",
    "    def __init__(self, nin, nout):\n",
    "        self.neurons = [Neuron(nin) for _ in range(nout)]\n",
    "        \n",
    "    def __call__(self, x):\n",
    "        outs = [n(x) for n in self.neurons]\n",
    "        return outs\n",
    "\n",
    "x = [2.0, 3.0]\n",
    "n = Layer(2,3)\n",
    "# we have three independent evaluations of three different neurons.\n",
    "n(x)"
   ]
  },
  {
   "cell_type": "code",
   "execution_count": 162,
   "id": "0c127d70",
   "metadata": {},
   "outputs": [],
   "source": [
    "\n",
    "class Neuron:\n",
    "    \n",
    "    def __init__(self, nin):\n",
    "        self.w = [Value(random.uniform(-1,1)) for _ in range(nin)]\n",
    "        self.b = Value(random.uniform(-1,1))\n",
    "        \n",
    "    def __call__(self, x):\n",
    "        # w * x + b\n",
    "        act = sum((wi*xi for wi, xi in zip(self.w, x)), self.b) \n",
    "        out = act.tanh()\n",
    "        return out\n",
    "    \n",
    "    def parameters(self):\n",
    "        # returns the parameters tensors (scaler):\n",
    "        return self.w + [self.b]\n",
    "    \n",
    "class Layer:\n",
    "\n",
    "    def __init__(self, nin, nout):\n",
    "        self.neurons = [Neuron(nin) for _ in range(nout)]\n",
    "        \n",
    "    def __call__(self, x):\n",
    "        outs = [n(x) for n in self.neurons]\n",
    "        return outs[0] if len(outs) == 1 else outs\n",
    "    \n",
    "    def parameters(self):\n",
    "        return [p for neuron in self.neurons for p in neuron.parameters()]\n",
    "        '''\n",
    "        params = []\n",
    "        for neuron in self.neurons:\n",
    "            ps = neuron.parameters()\n",
    "            params.extends(ps)\n",
    "        return params\n",
    "        '''\n",
    "        \n",
    "class MLP:\n",
    "    \n",
    "    # nin:number of inputs in the neuron\n",
    "    # nouts:take list of nouts,and list defines the sizes of all the layers that we want in MLP\n",
    "    def __init__(self, nin, nouts):\n",
    "        # sz:size \n",
    "        sz = [nin] + nouts\n",
    "        print(sz)\n",
    "        self.layers = [Layer(sz[i], sz[i+1]) for i in range(len(nouts))]\n",
    "        \n",
    "    def __call__(self, x):\n",
    "        for layer in self.layers:\n",
    "            x = layer(x)\n",
    "\n",
    "        return x\n",
    "    \n",
    "    def parameters(self):\n",
    "        return [p for layer in self.layers for p in layer.parameters()]\n"
   ]
  },
  {
   "cell_type": "code",
   "execution_count": 225,
   "id": "b2640933",
   "metadata": {},
   "outputs": [
    {
     "name": "stdout",
     "output_type": "stream",
     "text": [
      "[3, 4, 4, 1]\n"
     ]
    },
    {
     "data": {
      "text/plain": [
       "Value(data=0.908880941931081)"
      ]
     },
     "execution_count": 225,
     "metadata": {},
     "output_type": "execute_result"
    }
   ],
   "source": [
    "# initialize the MLP\n",
    "x = [2.0, 3.0, -1.0]\n",
    "n = MLP(3, [4, 4, 1])\n",
    "n(x)"
   ]
  },
  {
   "cell_type": "code",
   "execution_count": 226,
   "id": "92747be0",
   "metadata": {},
   "outputs": [
    {
     "data": {
      "text/plain": [
       "[Value(data=0.5522239418629378),\n",
       " Value(data=-0.42458483259775637),\n",
       " Value(data=0.9418642167208735),\n",
       " Value(data=0.7741138368342089),\n",
       " Value(data=0.6916163017716799),\n",
       " Value(data=0.45229505206464804),\n",
       " Value(data=0.11208817824315687),\n",
       " Value(data=-0.34245015484661057),\n",
       " Value(data=0.5245274482024627),\n",
       " Value(data=-0.3244372594404892),\n",
       " Value(data=-0.46912670914063836),\n",
       " Value(data=0.5097545529709484),\n",
       " Value(data=-0.030671459526405043),\n",
       " Value(data=0.8453387752977886),\n",
       " Value(data=0.37246058215091193),\n",
       " Value(data=-0.9539319535232371),\n",
       " Value(data=-0.135265346160649),\n",
       " Value(data=-0.8309951137520164),\n",
       " Value(data=-0.5018516454748898),\n",
       " Value(data=-0.39460713190239427),\n",
       " Value(data=0.20285707088681937),\n",
       " Value(data=0.6937853735908681),\n",
       " Value(data=-0.8734522257145192),\n",
       " Value(data=0.12588139948215327),\n",
       " Value(data=0.5173921455522288),\n",
       " Value(data=-0.35710739734873354),\n",
       " Value(data=0.526323656570693),\n",
       " Value(data=-0.7535808433445574),\n",
       " Value(data=-0.7732073771400656),\n",
       " Value(data=-0.6431162472753562),\n",
       " Value(data=0.32237267743948306),\n",
       " Value(data=-0.48323687879834143),\n",
       " Value(data=0.6138164273531508),\n",
       " Value(data=-0.661854253836553),\n",
       " Value(data=0.7983911406188271),\n",
       " Value(data=-0.9489974569974529),\n",
       " Value(data=0.5187381957753261),\n",
       " Value(data=-0.32408628396743655),\n",
       " Value(data=-0.861559247042335),\n",
       " Value(data=-0.5419201856611702),\n",
       " Value(data=0.8923379016745223)]"
      ]
     },
     "execution_count": 226,
     "metadata": {},
     "output_type": "execute_result"
    }
   ],
   "source": [
    "n.parameters()"
   ]
  },
  {
   "cell_type": "code",
   "execution_count": 227,
   "id": "ace09c37",
   "metadata": {},
   "outputs": [],
   "source": [
    "# dataset for simple binary classifier neural net\n",
    "xs = [\n",
    "    [2.0, 3.0, -1.0],\n",
    "    [3.0, -1.0, 0.5],\n",
    "    [0.5, 1.0, 1.0 ],\n",
    "    [1.0, 1.0, -1.0]\n",
    "]\n",
    "ys = [1.0, -1.0, -1.0, 1.0] # desired targets"
   ]
  },
  {
   "cell_type": "code",
   "execution_count": 281,
   "id": "119add4b",
   "metadata": {},
   "outputs": [
    {
     "name": "stdout",
     "output_type": "stream",
     "text": [
      "0 0.004945225303503612\n",
      "1 0.004908276729419514\n",
      "2 0.004871849190593106\n",
      "3 0.004835931960487601\n",
      "4 0.004800514601765837\n",
      "5 0.004765586956677536\n",
      "6 0.004731139137825441\n",
      "7 0.004697161519293466\n",
      "8 0.004663644728120123\n",
      "9 0.004630579636101787\n",
      "10 0.00459795735191115\n",
      "11 0.004565769213516755\n",
      "12 0.004534006780890424\n",
      "13 0.004502661828989882\n",
      "14 0.00447172634100455\n",
      "15 0.004441192501853264\n",
      "16 0.004411052691922828\n",
      "17 0.004381299481037198\n",
      "18 0.004351925622647747\n",
      "19 0.004322924048234705\n"
     ]
    }
   ],
   "source": [
    "for k in range(20):\n",
    "\n",
    "    # forward pass\n",
    "    ypred = [n(x) for x in xs]\n",
    "    loss = sum((yout - ygt)**2 for ygt, yout in zip(ys, ypred))\n",
    "    \n",
    "    # backward pass\n",
    "    for p in n.parameters():\n",
    "        p.grad = 0.0\n",
    "    loss.backward() # attention! remember to write the '__radd__' method in class Value\n",
    "\n",
    "    # update\n",
    "    # we actually want to change parameters slightly to the gradient information \n",
    "    for p in n.parameters():\n",
    "        p.data += -0.05 * p.grad\n",
    "        \n",
    "    print(k, loss.data)\n",
    "    "
   ]
  },
  {
   "cell_type": "code",
   "execution_count": 282,
   "id": "0bba4a6e",
   "metadata": {},
   "outputs": [
    {
     "data": {
      "text/plain": [
       "[Value(data=0.9670979387526897),\n",
       " Value(data=-0.9670510114060061),\n",
       " Value(data=-0.9661978261684231),\n",
       " Value(data=0.9681856068923881)]"
      ]
     },
     "execution_count": 282,
     "metadata": {},
     "output_type": "execute_result"
    }
   ],
   "source": [
    "ypred"
   ]
  },
  {
   "cell_type": "code",
   "execution_count": 278,
   "id": "f8ab1acb",
   "metadata": {},
   "outputs": [
    {
     "data": {
      "text/plain": [
       "[Value(data=0.3417232594883229),\n",
       " Value(data=-0.6280619624684621),\n",
       " Value(data=1.2416756424446067),\n",
       " Value(data=0.5987462296012234),\n",
       " Value(data=0.48699712472977835),\n",
       " Value(data=0.5098500532151813),\n",
       " Value(data=0.040124963840018395),\n",
       " Value(data=-0.4200054411164173),\n",
       " Value(data=0.4908297968060316),\n",
       " Value(data=-0.37506930014598205),\n",
       " Value(data=-0.5974068275514017),\n",
       " Value(data=0.4440480515473346),\n",
       " Value(data=0.0291996983496523),\n",
       " Value(data=0.9516298757285496),\n",
       " Value(data=0.3142123870865723),\n",
       " Value(data=-0.8571062755121187),\n",
       " Value(data=-0.5647590535554344),\n",
       " Value(data=-0.8999492337005436),\n",
       " Value(data=-0.4345077512568023),\n",
       " Value(data=-0.34535456161884476),\n",
       " Value(data=0.05409701154000706),\n",
       " Value(data=0.9877035462717063),\n",
       " Value(data=-0.7531493615229028),\n",
       " Value(data=0.19179860116259614),\n",
       " Value(data=0.4210596366424864),\n",
       " Value(data=-0.13967713374811339),\n",
       " Value(data=1.1306739356634077),\n",
       " Value(data=-0.5826157539614932),\n",
       " Value(data=-0.75770333834543),\n",
       " Value(data=-0.7627967595957726),\n",
       " Value(data=0.5823920798902621),\n",
       " Value(data=-0.3991104504803438),\n",
       " Value(data=0.6267949762337225),\n",
       " Value(data=-0.6898862330291157),\n",
       " Value(data=0.801882101133562),\n",
       " Value(data=-0.9025022423181696),\n",
       " Value(data=0.8664173308354585),\n",
       " Value(data=-0.5911698497853055),\n",
       " Value(data=-1.734589065365486),\n",
       " Value(data=-0.002650198663564177),\n",
       " Value(data=0.3964189936566344)]"
      ]
     },
     "execution_count": 278,
     "metadata": {},
     "output_type": "execute_result"
    }
   ],
   "source": [
    "n.parameters()"
   ]
  }
 ],
 "metadata": {
  "kernelspec": {
   "display_name": "Python 3 (ipykernel)",
   "language": "python",
   "name": "python3"
  },
  "language_info": {
   "codemirror_mode": {
    "name": "ipython",
    "version": 3
   },
   "file_extension": ".py",
   "mimetype": "text/x-python",
   "name": "python",
   "nbconvert_exporter": "python",
   "pygments_lexer": "ipython3",
   "version": "3.10.9"
  }
 },
 "nbformat": 4,
 "nbformat_minor": 5
}
